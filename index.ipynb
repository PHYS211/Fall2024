{
  "cells": [
    {
      "cell_type": "raw",
      "metadata": {},
      "source": [
        "---\n",
        "title: PHY 211 Fall 2024\n",
        "format:\n",
        "  html:\n",
        "    link-external-newwindow: true\n",
        "editor: source\n",
        "---"
      ],
      "id": "e850e4a7"
    },
    {
      "cell_type": "markdown",
      "metadata": {},
      "source": [
        "Welcome to the Fall 2024 class of PHYS 211!\n",
        "\n",
        "# Land Acknowledgment\n",
        "\n",
        "*We acknowledge that we are on Indigenous land: the territory of the Wabanaki people. We are grateful for the opportunity to live, learn, and grow on this sacred land, and extend our respect to citizens of this nation who live here today, and to their ancestors who have lived here for hundreds of generations. We recognize the repeated violations of sovereignty, territory, and water perpetrated by invaders who have impacted the original inhabitants of this land for 400 years. We know this acknowledgement is insufficient, and does not undo the harm that has been done and continues to be perpetrated now against Indigenous people and their land and water.*\n",
        "\n",
        "A land acknowledgment is only a start, and should not be seen as absolving this institution and those who benefit from it (including myself) from responsibility. For more, see [this excellent article in The Bates Student](https://thebatesstudent.com/18429/news/does-bates-deserve-a-land-acknowledgement/)\n",
        "\n",
        "I choose to include a land acknowledgment in my syllabus because the field of Physics is not neutral--the people who are able to pursue this work are products of systemic structures that deny opportunities to many communities, and as a result, our work and our culture is limited by bias. To consider Physics or any other scientific subject to be \"neutral\" or unrelated to issues of social structures is misleading at best. This applies to all marginalized identities, not just Indigenous groups, but the history of sovereignty violations to Indigenous lands in the Americas is crucial to recognize as an institution of higher learning built on this land.\n",
        "\n",
        "If you want to know more about the status of Indigenous groups here in Maine, check out the work being done by [Wabanaki Reach](https://www.wabanakireach.org/).\n",
        "\n",
        "# About this course\n",
        "\n",
        "If this is your first time on the course website, I recommend you \n",
        "\n",
        "<a target=\"_blank\" class=\"btn\" href=starthere.qmd>Start Here</a>\n",
        "\n",
        "## Course Description\n",
        "\n",
        "You can see the PHYS 211 course description [here](https://phys211.github.io/).\n",
        "\n",
        "## Course Objectives\n",
        "\n",
        "By the end of this course, you will be able to\n",
        "\n",
        "-   \n",
        "\n",
        "## Course Topics\n",
        "\n",
        "This course covers the following content:\n",
        "\n",
        "-   "
      ],
      "id": "9a2b1ec6"
    }
  ],
  "metadata": {
    "kernelspec": {
      "name": "python3",
      "language": "python",
      "display_name": "Python 3 (ipykernel)"
    }
  },
  "nbformat": 4,
  "nbformat_minor": 5
}